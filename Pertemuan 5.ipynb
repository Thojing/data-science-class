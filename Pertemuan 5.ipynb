{
 "cells": [
  {
   "cell_type": "markdown",
   "id": "1a971c02",
   "metadata": {},
   "source": [
    "# Pengenalan Python"
   ]
  },
  {
   "cell_type": "markdown",
   "id": "3356e831",
   "metadata": {},
   "source": [
    "## Variabel"
   ]
  },
  {
   "cell_type": "code",
   "execution_count": 3,
   "id": "df2ad6c9",
   "metadata": {},
   "outputs": [],
   "source": [
    "a = 10\n",
    "x = 5\n",
    "data = 10000"
   ]
  },
  {
   "cell_type": "code",
   "execution_count": 5,
   "id": "d9baa82f",
   "metadata": {},
   "outputs": [
    {
     "data": {
      "text/plain": [
       "10"
      ]
     },
     "execution_count": 5,
     "metadata": {},
     "output_type": "execute_result"
    }
   ],
   "source": [
    "a"
   ]
  },
  {
   "cell_type": "code",
   "execution_count": 6,
   "id": "b46a6812",
   "metadata": {},
   "outputs": [
    {
     "data": {
      "text/plain": [
       "5"
      ]
     },
     "execution_count": 6,
     "metadata": {},
     "output_type": "execute_result"
    }
   ],
   "source": [
    "x"
   ]
  },
  {
   "cell_type": "code",
   "execution_count": 7,
   "id": "7123633f",
   "metadata": {},
   "outputs": [
    {
     "data": {
      "text/plain": [
       "10000"
      ]
     },
     "execution_count": 7,
     "metadata": {},
     "output_type": "execute_result"
    }
   ],
   "source": [
    "data"
   ]
  },
  {
   "cell_type": "code",
   "execution_count": 9,
   "id": "35ee286f",
   "metadata": {},
   "outputs": [
    {
     "name": "stdout",
     "output_type": "stream",
     "text": [
      "Nilai a = 10\n"
     ]
    }
   ],
   "source": [
    "print('Nilai a =',a)"
   ]
  },
  {
   "cell_type": "code",
   "execution_count": 10,
   "id": "40d0badd",
   "metadata": {},
   "outputs": [],
   "source": [
    "#Penamaan Variabel\n",
    "data1 = a\n",
    "nilai_x = 20"
   ]
  },
  {
   "cell_type": "code",
   "execution_count": 11,
   "id": "36f70af7",
   "metadata": {},
   "outputs": [
    {
     "data": {
      "text/plain": [
       "10"
      ]
     },
     "execution_count": 11,
     "metadata": {},
     "output_type": "execute_result"
    }
   ],
   "source": [
    "data1"
   ]
  },
  {
   "cell_type": "code",
   "execution_count": 12,
   "id": "b4e8091b",
   "metadata": {},
   "outputs": [
    {
     "data": {
      "text/plain": [
       "20"
      ]
     },
     "execution_count": 12,
     "metadata": {},
     "output_type": "execute_result"
    }
   ],
   "source": [
    "nilai_x"
   ]
  },
  {
   "cell_type": "code",
   "execution_count": 13,
   "id": "aa880ceb",
   "metadata": {},
   "outputs": [
    {
     "name": "stdout",
     "output_type": "stream",
     "text": [
      "Nilai a = 10\n"
     ]
    }
   ],
   "source": [
    "#Pemanggilan\n",
    "print('Nilai a =',a)"
   ]
  },
  {
   "cell_type": "code",
   "execution_count": 14,
   "id": "123d042c",
   "metadata": {},
   "outputs": [],
   "source": [
    "a = 7"
   ]
  },
  {
   "cell_type": "code",
   "execution_count": 15,
   "id": "286a5f46",
   "metadata": {},
   "outputs": [
    {
     "name": "stdout",
     "output_type": "stream",
     "text": [
      "Nilai a = 7\n"
     ]
    }
   ],
   "source": [
    "print('Nilai a =',a)"
   ]
  },
  {
   "cell_type": "code",
   "execution_count": 16,
   "id": "7d74bd2a",
   "metadata": {},
   "outputs": [],
   "source": [
    "#Assigment Indirect\n",
    "b = x"
   ]
  },
  {
   "cell_type": "code",
   "execution_count": 17,
   "id": "7a0157c3",
   "metadata": {},
   "outputs": [
    {
     "data": {
      "text/plain": [
       "5"
      ]
     },
     "execution_count": 17,
     "metadata": {},
     "output_type": "execute_result"
    }
   ],
   "source": [
    "b"
   ]
  },
  {
   "cell_type": "markdown",
   "id": "8dcb2332",
   "metadata": {},
   "source": [
    "## Tipe Data"
   ]
  },
  {
   "cell_type": "code",
   "execution_count": 18,
   "id": "5940ca7f",
   "metadata": {},
   "outputs": [
    {
     "data": {
      "text/plain": [
       "int"
      ]
     },
     "execution_count": 18,
     "metadata": {},
     "output_type": "execute_result"
    }
   ],
   "source": [
    "#Integer\n",
    "##Angka Satuan\n",
    "##Bilangan Bulat\n",
    "\n",
    "a = 10\n",
    "type(a)"
   ]
  },
  {
   "cell_type": "code",
   "execution_count": 19,
   "id": "ce25ffd8",
   "metadata": {},
   "outputs": [
    {
     "name": "stdout",
     "output_type": "stream",
     "text": [
      "type data a adalah <class 'int'>\n"
     ]
    }
   ],
   "source": [
    "print('type data a adalah',type(a))"
   ]
  },
  {
   "cell_type": "code",
   "execution_count": 22,
   "id": "f32ec42a",
   "metadata": {},
   "outputs": [
    {
     "name": "stdout",
     "output_type": "stream",
     "text": [
      "type data x adalah <class 'float'>\n"
     ]
    }
   ],
   "source": [
    "#Float\n",
    "x = 13.7\n",
    "print('type data x adalah', type(x))"
   ]
  },
  {
   "cell_type": "code",
   "execution_count": 26,
   "id": "8a35c017",
   "metadata": {},
   "outputs": [],
   "source": [
    "#String\n",
    "contoh = 'mas jawa'"
   ]
  },
  {
   "cell_type": "code",
   "execution_count": 24,
   "id": "1c0fe312",
   "metadata": {},
   "outputs": [
    {
     "name": "stdout",
     "output_type": "stream",
     "text": [
      "type data contoh adalah <class 'str'>\n"
     ]
    }
   ],
   "source": [
    "print('type data contoh adalah',type(contoh))"
   ]
  },
  {
   "cell_type": "code",
   "execution_count": 27,
   "id": "004cc32c",
   "metadata": {},
   "outputs": [
    {
     "name": "stdout",
     "output_type": "stream",
     "text": [
      "type data contoh2 adalah <class 'str'>\n"
     ]
    }
   ],
   "source": [
    "contoh2 = '13.7'\n",
    "print('type data contoh2 adalah',type(contoh2))"
   ]
  },
  {
   "cell_type": "code",
   "execution_count": 29,
   "id": "01509b53",
   "metadata": {},
   "outputs": [
    {
     "name": "stdout",
     "output_type": "stream",
     "text": [
      "type data contoh3 adalah <class 'bool'>\n"
     ]
    }
   ],
   "source": [
    "#Boolen\n",
    "contoh3 = True\n",
    "print('type data contoh3 adalah',type(contoh3))"
   ]
  },
  {
   "cell_type": "code",
   "execution_count": 30,
   "id": "eceed979",
   "metadata": {},
   "outputs": [
    {
     "name": "stdout",
     "output_type": "stream",
     "text": [
      "type data contoh4 adalah <class 'bool'>\n"
     ]
    }
   ],
   "source": [
    "contoh4 = False\n",
    "print('type data contoh4 adalah',type(contoh4))"
   ]
  },
  {
   "cell_type": "markdown",
   "id": "f31e1cc6",
   "metadata": {},
   "source": [
    "## Casting Tipe Data"
   ]
  },
  {
   "cell_type": "code",
   "execution_count": 31,
   "id": "cf9514c7",
   "metadata": {},
   "outputs": [
    {
     "name": "stdout",
     "output_type": "stream",
     "text": [
      "data =  9 ,type = <class 'int'>\n"
     ]
    }
   ],
   "source": [
    "#Integer\n",
    "data_int = 9\n",
    "print('data = ',data_int,',type =', type(data_int))"
   ]
  },
  {
   "cell_type": "code",
   "execution_count": 43,
   "id": "52ec561d",
   "metadata": {},
   "outputs": [],
   "source": [
    "data_int = 4\n",
    "\n",
    "data_float = float(data_int)\n",
    "data_str = str(data_int)\n",
    "data_bool = bool(data_int)"
   ]
  },
  {
   "cell_type": "code",
   "execution_count": 41,
   "id": "2d686c56",
   "metadata": {},
   "outputs": [
    {
     "name": "stdout",
     "output_type": "stream",
     "text": [
      "data =  4.0 ,type = <class 'float'>\n",
      "data =  4 ,type = <class 'str'>\n",
      "data =  True ,type = <class 'bool'>\n"
     ]
    }
   ],
   "source": [
    "print('data = ',data_float,',type =', type(data_float))\n",
    "print('data = ',data_str,',type =', type(data_str))\n",
    "print('data = ',data_bool,',type =', type(data_bool)) # 0 artinya False, >0> artinya True"
   ]
  },
  {
   "cell_type": "code",
   "execution_count": 47,
   "id": "2df4f4a3",
   "metadata": {},
   "outputs": [
    {
     "name": "stdout",
     "output_type": "stream",
     "text": [
      "data =  4 ,type = <class 'int'>\n",
      "data =  4.5 ,type = <class 'str'>\n",
      "data =  True ,type = <class 'bool'>\n"
     ]
    }
   ],
   "source": [
    "data_float = 4.5\n",
    "\n",
    "data_int = int(data_float)\n",
    "data_str = str(data_float)\n",
    "data_bool = bool(data_float)\n",
    "\n",
    "print('data = ',data_int,',type =', type(data_int)) #pembulatan selalu ke bawah\n",
    "print('data = ',data_str,',type =', type(data_str))\n",
    "print('data = ',data_bool,',type =', type(data_bool))# 0 artinya False, >0 artinya True"
   ]
  },
  {
   "cell_type": "code",
   "execution_count": 54,
   "id": "d9942044",
   "metadata": {},
   "outputs": [
    {
     "name": "stdout",
     "output_type": "stream",
     "text": [
      "data =  8 ,type = <class 'int'>\n",
      "data =  8.0 ,type = <class 'float'>\n",
      "data =  True ,type = <class 'bool'>\n"
     ]
    }
   ],
   "source": [
    "data_str = '8'\n",
    "\n",
    "data_int = int(data_str)\n",
    "data_float = float(data_str)\n",
    "data_bool = bool(data_str)\n",
    "\n",
    "print('data = ',data_int,',type =', type(data_int))\n",
    "print('data = ',data_float,',type =', type(data_float))\n",
    "print('data = ',data_bool,',type =', type(data_bool))"
   ]
  },
  {
   "cell_type": "code",
   "execution_count": 58,
   "id": "db8d8985",
   "metadata": {},
   "outputs": [
    {
     "name": "stdout",
     "output_type": "stream",
     "text": [
      "data =  1 ,type = <class 'int'>\n",
      "data =  1.0 ,type = <class 'float'>\n",
      "data =  True ,type = <class 'str'>\n"
     ]
    }
   ],
   "source": [
    "data_bool = True\n",
    "\n",
    "data_int = int(data_bool)\n",
    "data_float = float(data_bool)\n",
    "data_str = str(data_bool)\n",
    "\n",
    "print('data = ',data_int,',type =', type(data_int))\n",
    "print('data = ',data_float,',type =', type(data_float))\n",
    "print('data = ',data_str,',type =', type(data_str))"
   ]
  },
  {
   "cell_type": "markdown",
   "id": "f708049f",
   "metadata": {},
   "source": [
    "### Tugas"
   ]
  },
  {
   "cell_type": "code",
   "execution_count": null,
   "id": "9a1d1718",
   "metadata": {},
   "outputs": [],
   "source": [
    "Buat dari awal menggunakan variabel dan value sendiri\n",
    "Bebas berkreasi dan rapi\n"
   ]
  }
 ],
 "metadata": {
  "kernelspec": {
   "display_name": "Python 3 (ipykernel)",
   "language": "python",
   "name": "python3"
  },
  "language_info": {
   "codemirror_mode": {
    "name": "ipython",
    "version": 3
   },
   "file_extension": ".py",
   "mimetype": "text/x-python",
   "name": "python",
   "nbconvert_exporter": "python",
   "pygments_lexer": "ipython3",
   "version": "3.11.4"
  }
 },
 "nbformat": 4,
 "nbformat_minor": 5
}
