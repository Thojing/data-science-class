{
 "cells": [
  {
   "cell_type": "code",
   "execution_count": 1,
   "id": "8b5d6527",
   "metadata": {},
   "outputs": [],
   "source": [
    "import numpy as np\n",
    "import pandas as pd\n",
    "import xgboost as xgb\n",
    "from sklearn.model_selection import train_test_split\n",
    "from sklearn.metrics import accuracy_score\n",
    "import seaborn as sns"
   ]
  },
  {
   "cell_type": "code",
   "execution_count": 2,
   "id": "0da0954c",
   "metadata": {},
   "outputs": [],
   "source": [
    "titanic = sns.load_dataset('titanic')\n",
    "\n",
    "# Drop columns yang tidak dibutuhkan\n",
    "titanic.drop(['embarked', 'class', 'who', 'adult_male', 'deck', 'embark_town', 'alive'], axis=1, inplace=True)\n",
    "\n",
    "# Mengisi missing value pada kolom age dengan median\n",
    "titanic['age'].fillna(titanic['age'].mean(), inplace=True)\n",
    "\n",
    "# Konversi categorical variable menjadi numerical variable\n",
    "titanic = pd.get_dummies(titanic, columns=['sex', 'alone'], drop_first=True)\n",
    "\n",
    "# Pisahkan feature dan target variable\n",
    "X, y = titanic.drop(['survived'], axis=1), titanic['survived']\n",
    "\n",
    "# Bagi dataset menjadi training set dan test set\n",
    "X_train, X_test, y_train, y_test = train_test_split(X, y, test_size=0.3, random_state=42)"
   ]
  },
  {
   "cell_type": "code",
   "execution_count": 3,
   "id": "77fbc3a1",
   "metadata": {},
   "outputs": [],
   "source": [
    "train_dmatrix = xgb.DMatrix(data=X_train,label=y_train)"
   ]
  },
  {
   "cell_type": "code",
   "execution_count": 16,
   "id": "f56716bf",
   "metadata": {},
   "outputs": [],
   "source": [
    "params = {'objective':'binary:logistic',\n",
    "          'max_depth':6,\n",
    "          'learning_rate':1,\n",
    "          'eval_metric':'error'}\n",
    "#objective: hubungan sebab akibat antara X dan Y\n",
    "#max_depth: mengukur kedalaman, semakin besar berpotensi overfitiing (?) #default 6, tapi di sini\n",
    "          \n",
    "num_round = 50 #The number of rounds for boosting\n",
    "\n",
    "model = xgb.train(params, train_dmatrix, num_round)"
   ]
  },
  {
   "cell_type": "code",
   "execution_count": 17,
   "id": "7caa147a",
   "metadata": {},
   "outputs": [],
   "source": [
    "test_dmatrix = xgb.DMatrix(data=X_test)\n",
    "\n",
    "y_pred = model.predict(test_dmatrix)\n",
    "y_pred = [round(value) for value in y_pred]"
   ]
  },
  {
   "cell_type": "code",
   "execution_count": 18,
   "id": "58c17642",
   "metadata": {},
   "outputs": [
    {
     "name": "stdout",
     "output_type": "stream",
     "text": [
      "Accuracy: 79.10%\n"
     ]
    }
   ],
   "source": [
    "accuracy = accuracy_score(y_test, y_pred)\n",
    "print(\"Accuracy: %.2f%%\" % (accuracy * 100.0))"
   ]
  },
  {
   "cell_type": "code",
   "execution_count": null,
   "id": "a5f2a173",
   "metadata": {},
   "outputs": [],
   "source": [
    "# kak di atas 95% - 100% overfitting. salah model atau ke-tunning\n",
    "#pertanyaan"
   ]
  }
 ],
 "metadata": {
  "kernelspec": {
   "display_name": "Python 3 (ipykernel)",
   "language": "python",
   "name": "python3"
  },
  "language_info": {
   "codemirror_mode": {
    "name": "ipython",
    "version": 3
   },
   "file_extension": ".py",
   "mimetype": "text/x-python",
   "name": "python",
   "nbconvert_exporter": "python",
   "pygments_lexer": "ipython3",
   "version": "3.11.4"
  },
  "varInspector": {
   "cols": {
    "lenName": 16,
    "lenType": 16,
    "lenVar": 40
   },
   "kernels_config": {
    "python": {
     "delete_cmd_postfix": "",
     "delete_cmd_prefix": "del ",
     "library": "var_list.py",
     "varRefreshCmd": "print(var_dic_list())"
    },
    "r": {
     "delete_cmd_postfix": ") ",
     "delete_cmd_prefix": "rm(",
     "library": "var_list.r",
     "varRefreshCmd": "cat(var_dic_list()) "
    }
   },
   "types_to_exclude": [
    "module",
    "function",
    "builtin_function_or_method",
    "instance",
    "_Feature"
   ],
   "window_display": false
  }
 },
 "nbformat": 4,
 "nbformat_minor": 5
}
