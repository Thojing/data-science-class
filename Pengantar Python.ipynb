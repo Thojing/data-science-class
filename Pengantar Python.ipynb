{
 "cells": [
  {
   "cell_type": "markdown",
   "id": "bba92441",
   "metadata": {},
   "source": [
    "# Pengantar Python"
   ]
  },
  {
   "cell_type": "code",
   "execution_count": 5,
   "id": "6038d053",
   "metadata": {},
   "outputs": [
    {
     "name": "stdout",
     "output_type": "stream",
     "text": [
      "Hello World\n",
      "2023\n",
      "Selamat Pagi\n"
     ]
    }
   ],
   "source": [
    "#Komentar\n",
    "print('Hello World')\n",
    "print('2023')\n",
    "print('Selamat Pagi')"
   ]
  },
  {
   "cell_type": "code",
   "execution_count": null,
   "id": "0f6dc5f4",
   "metadata": {},
   "outputs": [],
   "source": []
  }
 ],
 "metadata": {
  "kernelspec": {
   "display_name": "Python 3 (ipykernel)",
   "language": "python",
   "name": "python3"
  },
  "language_info": {
   "codemirror_mode": {
    "name": "ipython",
    "version": 3
   },
   "file_extension": ".py",
   "mimetype": "text/x-python",
   "name": "python",
   "nbconvert_exporter": "python",
   "pygments_lexer": "ipython3",
   "version": "3.11.4"
  }
 },
 "nbformat": 4,
 "nbformat_minor": 5
}
