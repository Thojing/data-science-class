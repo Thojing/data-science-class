{
 "cells": [
  {
   "cell_type": "code",
   "execution_count": 1,
   "id": "5b3e7178",
   "metadata": {},
   "outputs": [],
   "source": [
    "twitter_auth_token = 'e257778fc2853380992d0f0dd655d4e11c76d3f2'"
   ]
  },
  {
   "cell_type": "code",
   "execution_count": 3,
   "id": "e7cd32e7",
   "metadata": {},
   "outputs": [
    {
     "name": "stderr",
     "output_type": "stream",
     "text": [
      "'sudo' is not recognized as an internal or external command,\n",
      "operable program or batch file.\n",
      "'sudo' is not recognized as an internal or external command,\n",
      "operable program or batch file.\n",
      "'sudo' is not recognized as an internal or external command,\n",
      "operable program or batch file.\n",
      "'sudo' is not recognized as an internal or external command,\n",
      "operable program or batch file.\n",
      "'NODE_MAJOR' is not recognized as an internal or external command,\n",
      "operable program or batch file.\n",
      "'sudo' is not recognized as an internal or external command,\n",
      "operable program or batch file.\n",
      "'sudo' is not recognized as an internal or external command,\n",
      "operable program or batch file.\n"
     ]
    },
    {
     "name": "stdout",
     "output_type": "stream",
     "text": [
      "v20.10.0\n"
     ]
    }
   ],
   "source": [
    "# Import required Python package\n",
    "import pandas as pd \n",
    "\n",
    "# Install Node.js (because tweet-harvest built using Node.js)\n",
    "!sudo apt-get update\n",
    "!sudo apt-get install -y ca-certificates curl gnupg\n",
    "!sudo mkdir -p /etc/apt/keyrings\n",
    "!curl -fsSL https://deb.nodesource.com/gpgkey/nodesource-repo.gpg.key | sudo gpg --dearmor -o /etc/apt/keyrings/nodesource.gpg\n",
    "\n",
    "!NODE_MAJOR=20 && echo \"deb [signed-by=/etc/apt/keyrings/nodesource.gpg] https://deb.nodesource.com/node_$NODE_MAJOR.x nodistro main\" | sudo tee /etc/apt/sources.list.d/nodesource.list\n",
    "\n",
    "!sudo apt-get update\n",
    "!sudo apt-get install nodejs -y\n",
    "\n",
    "!node -v"
   ]
  },
  {
   "cell_type": "code",
   "execution_count": 4,
   "id": "80897e23",
   "metadata": {},
   "outputs": [
    {
     "name": "stderr",
     "output_type": "stream",
     "text": [
      "npm ERR! code ENOENT\n",
      "npm ERR! syscall lstat\n",
      "npm ERR! path C:\\Users\\Asani\\AppData\\Roaming\\npm\n",
      "npm ERR! errno -4058\n",
      "npm ERR! enoent ENOENT: no such file or directory, lstat 'C:\\Users\\Asani\\AppData\\Roaming\\npm'\n",
      "npm ERR! enoent This is related to npm not being able to find a file.\n",
      "npm ERR! enoent \n",
      "\n",
      "npm ERR! A complete log of this run can be found in: C:\\Users\\Asani\\AppData\\Local\\npm-cache\\_logs\\2023-12-22T12_43_46_591Z-debug-0.log\n"
     ]
    }
   ],
   "source": [
    "# Crawl Data\n",
    "\n",
    "filename = 'iphone15.csv'\n",
    "search_keyword = 'iphone15 lang:id'\n",
    "limit = 12\n",
    "f = '01-12-2023'\n",
    "t = '10-12-2023'\n",
    "\n",
    "!npx --yes tweet-harvest@2.2.8 -o \"{filename}\" -s \"{search_keyword}\" -l {limit} --from \"{f}\" --to \"{t}\" --token {twitter_auth_token}"
   ]
  },
  {
   "cell_type": "code",
   "execution_count": null,
   "id": "d2130609",
   "metadata": {},
   "outputs": [],
   "source": []
  }
 ],
 "metadata": {
  "kernelspec": {
   "display_name": "Python 3 (ipykernel)",
   "language": "python",
   "name": "python3"
  },
  "language_info": {
   "codemirror_mode": {
    "name": "ipython",
    "version": 3
   },
   "file_extension": ".py",
   "mimetype": "text/x-python",
   "name": "python",
   "nbconvert_exporter": "python",
   "pygments_lexer": "ipython3",
   "version": "3.11.4"
  }
 },
 "nbformat": 4,
 "nbformat_minor": 5
}
