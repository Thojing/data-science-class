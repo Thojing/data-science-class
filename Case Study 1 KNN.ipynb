{
 "cells": [
  {
   "cell_type": "markdown",
   "id": "c8ccf901",
   "metadata": {},
   "source": [
    "# Case Study 1"
   ]
  },
  {
   "cell_type": "markdown",
   "id": "3d61820c",
   "metadata": {},
   "source": [
    "### Thojing Dea Pallaqi"
   ]
  },
  {
   "cell_type": "code",
   "execution_count": 1,
   "id": "549bd19b",
   "metadata": {},
   "outputs": [],
   "source": [
    "#Import Library Pandas dan Numpy\n",
    "import pandas as pd\n",
    "import numpy as np"
   ]
  },
  {
   "cell_type": "code",
   "execution_count": 2,
   "id": "73da0f5d",
   "metadata": {},
   "outputs": [
    {
     "data": {
      "text/html": [
       "<div>\n",
       "<style scoped>\n",
       "    .dataframe tbody tr th:only-of-type {\n",
       "        vertical-align: middle;\n",
       "    }\n",
       "\n",
       "    .dataframe tbody tr th {\n",
       "        vertical-align: top;\n",
       "    }\n",
       "\n",
       "    .dataframe thead th {\n",
       "        text-align: right;\n",
       "    }\n",
       "</style>\n",
       "<table border=\"1\" class=\"dataframe\">\n",
       "  <thead>\n",
       "    <tr style=\"text-align: right;\">\n",
       "      <th></th>\n",
       "      <th>Unnamed: 0</th>\n",
       "      <th>Catatan_kredit</th>\n",
       "      <th>Utang</th>\n",
       "      <th>Jaminan</th>\n",
       "      <th>Pendapatan</th>\n",
       "      <th>Risiko</th>\n",
       "    </tr>\n",
       "  </thead>\n",
       "  <tbody>\n",
       "    <tr>\n",
       "      <th>0</th>\n",
       "      <td>1</td>\n",
       "      <td>buruk</td>\n",
       "      <td>rendah</td>\n",
       "      <td>tidak_ada</td>\n",
       "      <td>0-15</td>\n",
       "      <td>tinggi</td>\n",
       "    </tr>\n",
       "    <tr>\n",
       "      <th>1</th>\n",
       "      <td>2</td>\n",
       "      <td>tidak_diketahui</td>\n",
       "      <td>tinggi</td>\n",
       "      <td>tidak_ada</td>\n",
       "      <td>15-35</td>\n",
       "      <td>tinggi</td>\n",
       "    </tr>\n",
       "    <tr>\n",
       "      <th>2</th>\n",
       "      <td>3</td>\n",
       "      <td>tidak_diketahui</td>\n",
       "      <td>rendah</td>\n",
       "      <td>tidak_ada</td>\n",
       "      <td>15-35</td>\n",
       "      <td>rendah</td>\n",
       "    </tr>\n",
       "    <tr>\n",
       "      <th>3</th>\n",
       "      <td>4</td>\n",
       "      <td>buruk</td>\n",
       "      <td>rendah</td>\n",
       "      <td>tidak_ada</td>\n",
       "      <td>0-15</td>\n",
       "      <td>tinggi</td>\n",
       "    </tr>\n",
       "    <tr>\n",
       "      <th>4</th>\n",
       "      <td>5</td>\n",
       "      <td>tidak_diketahui</td>\n",
       "      <td>rendah</td>\n",
       "      <td>ada</td>\n",
       "      <td>&gt;35</td>\n",
       "      <td>rendah</td>\n",
       "    </tr>\n",
       "    <tr>\n",
       "      <th>...</th>\n",
       "      <td>...</td>\n",
       "      <td>...</td>\n",
       "      <td>...</td>\n",
       "      <td>...</td>\n",
       "      <td>...</td>\n",
       "      <td>...</td>\n",
       "    </tr>\n",
       "    <tr>\n",
       "      <th>115</th>\n",
       "      <td>116</td>\n",
       "      <td>baik</td>\n",
       "      <td>tinggi</td>\n",
       "      <td>ada</td>\n",
       "      <td>15-35</td>\n",
       "      <td>rendah</td>\n",
       "    </tr>\n",
       "    <tr>\n",
       "      <th>116</th>\n",
       "      <td>117</td>\n",
       "      <td>baik</td>\n",
       "      <td>tinggi</td>\n",
       "      <td>tidak_ada</td>\n",
       "      <td>15-35</td>\n",
       "      <td>rendah</td>\n",
       "    </tr>\n",
       "    <tr>\n",
       "      <th>117</th>\n",
       "      <td>118</td>\n",
       "      <td>baik</td>\n",
       "      <td>tinggi</td>\n",
       "      <td>ada</td>\n",
       "      <td>15-35</td>\n",
       "      <td>rendah</td>\n",
       "    </tr>\n",
       "    <tr>\n",
       "      <th>118</th>\n",
       "      <td>119</td>\n",
       "      <td>tidak_diketahui</td>\n",
       "      <td>rendah</td>\n",
       "      <td>tidak_ada</td>\n",
       "      <td>15-35</td>\n",
       "      <td>tinggi</td>\n",
       "    </tr>\n",
       "    <tr>\n",
       "      <th>119</th>\n",
       "      <td>120</td>\n",
       "      <td>baik</td>\n",
       "      <td>rendah</td>\n",
       "      <td>tidak_ada</td>\n",
       "      <td>15-35</td>\n",
       "      <td>tinggi</td>\n",
       "    </tr>\n",
       "  </tbody>\n",
       "</table>\n",
       "<p>120 rows × 6 columns</p>\n",
       "</div>"
      ],
      "text/plain": [
       "     Unnamed: 0   Catatan_kredit   Utang    Jaminan Pendapatan  Risiko\n",
       "0             1            buruk  rendah  tidak_ada       0-15  tinggi\n",
       "1             2  tidak_diketahui  tinggi  tidak_ada      15-35  tinggi\n",
       "2             3  tidak_diketahui  rendah  tidak_ada      15-35  rendah\n",
       "3             4            buruk  rendah  tidak_ada       0-15  tinggi\n",
       "4             5  tidak_diketahui  rendah        ada        >35  rendah\n",
       "..          ...              ...     ...        ...        ...     ...\n",
       "115         116             baik  tinggi        ada      15-35  rendah\n",
       "116         117             baik  tinggi  tidak_ada      15-35  rendah\n",
       "117         118             baik  tinggi        ada      15-35  rendah\n",
       "118         119  tidak_diketahui  rendah  tidak_ada      15-35  tinggi\n",
       "119         120             baik  rendah  tidak_ada      15-35  tinggi\n",
       "\n",
       "[120 rows x 6 columns]"
      ]
     },
     "execution_count": 2,
     "metadata": {},
     "output_type": "execute_result"
    }
   ],
   "source": [
    "#Import Dataset\n",
    "df = pd.read_excel('Data/credit.xlsx')\n",
    "df"
   ]
  },
  {
   "cell_type": "markdown",
   "id": "a3b3f211",
   "metadata": {},
   "source": [
    "Data yang digunakan pada studi kasus ini adalah credit.xlsx. \n",
    "Dataset memiliki 4 atribut (Catatan_kredit, Utang, Jaminan, dan Pendapatan) dengan nilai kategori yang \n",
    "berbeda-beda."
   ]
  },
  {
   "cell_type": "code",
   "execution_count": 3,
   "id": "43cdf8b0",
   "metadata": {
    "scrolled": true
   },
   "outputs": [
    {
     "name": "stdout",
     "output_type": "stream",
     "text": [
      "<class 'pandas.core.frame.DataFrame'>\n",
      "RangeIndex: 120 entries, 0 to 119\n",
      "Data columns (total 6 columns):\n",
      " #   Column          Non-Null Count  Dtype \n",
      "---  ------          --------------  ----- \n",
      " 0   Unnamed: 0      120 non-null    int64 \n",
      " 1   Catatan_kredit  120 non-null    object\n",
      " 2   Utang           120 non-null    object\n",
      " 3   Jaminan         120 non-null    object\n",
      " 4   Pendapatan      120 non-null    object\n",
      " 5   Risiko          120 non-null    object\n",
      "dtypes: int64(1), object(5)\n",
      "memory usage: 5.8+ KB\n"
     ]
    }
   ],
   "source": [
    "#Mengecek Kesesuaian Tipe Data\n",
    "df.info()"
   ]
  },
  {
   "cell_type": "markdown",
   "id": "c0568863",
   "metadata": {},
   "source": [
    "Berdasarkan hasil diatas data yang digunakan memiliki 6 Columns atau Variabel dan terdiri dari 120 data.\n",
    "Untuk tipe data pada data tersebut adalah int64 dan object."
   ]
  },
  {
   "cell_type": "code",
   "execution_count": 4,
   "id": "357d208d",
   "metadata": {},
   "outputs": [
    {
     "data": {
      "text/plain": [
       "Unnamed: 0        0\n",
       "Catatan_kredit    0\n",
       "Utang             0\n",
       "Jaminan           0\n",
       "Pendapatan        0\n",
       "Risiko            0\n",
       "dtype: int64"
      ]
     },
     "execution_count": 4,
     "metadata": {},
     "output_type": "execute_result"
    }
   ],
   "source": [
    "#Mengecek Missing Value\n",
    "df.isna().sum()"
   ]
  },
  {
   "cell_type": "markdown",
   "id": "27e7f30c",
   "metadata": {},
   "source": [
    "Setelah dilakukan pengecekan Missing Value atau data Hilang, dapat disimpulkan bahwa tidak ada Missing Value dari data tersebut."
   ]
  },
  {
   "cell_type": "code",
   "execution_count": 5,
   "id": "6121f622",
   "metadata": {},
   "outputs": [],
   "source": [
    "#Import Library LabelEncoder\n",
    "from sklearn.preprocessing import LabelEncoder\n",
    "\n",
    "#Mengkonversi Variabel Menjadi Numerik\n",
    "LEnconder = LabelEncoder()\n",
    "columns = ['Catatan_kredit', 'Utang', 'Jaminan', 'Pendapatan']\n",
    "\n",
    "for col in columns:\n",
    "    df[col] = LEnconder.fit_transform(df[col])"
   ]
  },
  {
   "cell_type": "code",
   "execution_count": 6,
   "id": "becfdfb1",
   "metadata": {},
   "outputs": [
    {
     "data": {
      "text/html": [
       "<div>\n",
       "<style scoped>\n",
       "    .dataframe tbody tr th:only-of-type {\n",
       "        vertical-align: middle;\n",
       "    }\n",
       "\n",
       "    .dataframe tbody tr th {\n",
       "        vertical-align: top;\n",
       "    }\n",
       "\n",
       "    .dataframe thead th {\n",
       "        text-align: right;\n",
       "    }\n",
       "</style>\n",
       "<table border=\"1\" class=\"dataframe\">\n",
       "  <thead>\n",
       "    <tr style=\"text-align: right;\">\n",
       "      <th></th>\n",
       "      <th>Unnamed: 0</th>\n",
       "      <th>Catatan_kredit</th>\n",
       "      <th>Utang</th>\n",
       "      <th>Jaminan</th>\n",
       "      <th>Pendapatan</th>\n",
       "      <th>Risiko</th>\n",
       "    </tr>\n",
       "  </thead>\n",
       "  <tbody>\n",
       "    <tr>\n",
       "      <th>0</th>\n",
       "      <td>1</td>\n",
       "      <td>1</td>\n",
       "      <td>0</td>\n",
       "      <td>1</td>\n",
       "      <td>0</td>\n",
       "      <td>tinggi</td>\n",
       "    </tr>\n",
       "    <tr>\n",
       "      <th>1</th>\n",
       "      <td>2</td>\n",
       "      <td>2</td>\n",
       "      <td>1</td>\n",
       "      <td>1</td>\n",
       "      <td>1</td>\n",
       "      <td>tinggi</td>\n",
       "    </tr>\n",
       "    <tr>\n",
       "      <th>2</th>\n",
       "      <td>3</td>\n",
       "      <td>2</td>\n",
       "      <td>0</td>\n",
       "      <td>1</td>\n",
       "      <td>1</td>\n",
       "      <td>rendah</td>\n",
       "    </tr>\n",
       "    <tr>\n",
       "      <th>3</th>\n",
       "      <td>4</td>\n",
       "      <td>1</td>\n",
       "      <td>0</td>\n",
       "      <td>1</td>\n",
       "      <td>0</td>\n",
       "      <td>tinggi</td>\n",
       "    </tr>\n",
       "    <tr>\n",
       "      <th>4</th>\n",
       "      <td>5</td>\n",
       "      <td>2</td>\n",
       "      <td>0</td>\n",
       "      <td>0</td>\n",
       "      <td>2</td>\n",
       "      <td>rendah</td>\n",
       "    </tr>\n",
       "    <tr>\n",
       "      <th>...</th>\n",
       "      <td>...</td>\n",
       "      <td>...</td>\n",
       "      <td>...</td>\n",
       "      <td>...</td>\n",
       "      <td>...</td>\n",
       "      <td>...</td>\n",
       "    </tr>\n",
       "    <tr>\n",
       "      <th>115</th>\n",
       "      <td>116</td>\n",
       "      <td>0</td>\n",
       "      <td>1</td>\n",
       "      <td>0</td>\n",
       "      <td>1</td>\n",
       "      <td>rendah</td>\n",
       "    </tr>\n",
       "    <tr>\n",
       "      <th>116</th>\n",
       "      <td>117</td>\n",
       "      <td>0</td>\n",
       "      <td>1</td>\n",
       "      <td>1</td>\n",
       "      <td>1</td>\n",
       "      <td>rendah</td>\n",
       "    </tr>\n",
       "    <tr>\n",
       "      <th>117</th>\n",
       "      <td>118</td>\n",
       "      <td>0</td>\n",
       "      <td>1</td>\n",
       "      <td>0</td>\n",
       "      <td>1</td>\n",
       "      <td>rendah</td>\n",
       "    </tr>\n",
       "    <tr>\n",
       "      <th>118</th>\n",
       "      <td>119</td>\n",
       "      <td>2</td>\n",
       "      <td>0</td>\n",
       "      <td>1</td>\n",
       "      <td>1</td>\n",
       "      <td>tinggi</td>\n",
       "    </tr>\n",
       "    <tr>\n",
       "      <th>119</th>\n",
       "      <td>120</td>\n",
       "      <td>0</td>\n",
       "      <td>0</td>\n",
       "      <td>1</td>\n",
       "      <td>1</td>\n",
       "      <td>tinggi</td>\n",
       "    </tr>\n",
       "  </tbody>\n",
       "</table>\n",
       "<p>120 rows × 6 columns</p>\n",
       "</div>"
      ],
      "text/plain": [
       "     Unnamed: 0  Catatan_kredit  Utang  Jaminan  Pendapatan  Risiko\n",
       "0             1               1      0        1           0  tinggi\n",
       "1             2               2      1        1           1  tinggi\n",
       "2             3               2      0        1           1  rendah\n",
       "3             4               1      0        1           0  tinggi\n",
       "4             5               2      0        0           2  rendah\n",
       "..          ...             ...    ...      ...         ...     ...\n",
       "115         116               0      1        0           1  rendah\n",
       "116         117               0      1        1           1  rendah\n",
       "117         118               0      1        0           1  rendah\n",
       "118         119               2      0        1           1  tinggi\n",
       "119         120               0      0        1           1  tinggi\n",
       "\n",
       "[120 rows x 6 columns]"
      ]
     },
     "execution_count": 6,
     "metadata": {},
     "output_type": "execute_result"
    }
   ],
   "source": [
    "df"
   ]
  },
  {
   "cell_type": "markdown",
   "id": "c3c74890",
   "metadata": {},
   "source": [
    "Kemudian, dilakukan konversi variabel menjadi numerik dengan menggunakan LabelEnconder. Variabel yang dikonversi adalah variabel Catatan_kredit, Utang, Jaminan, dan Pendapatan."
   ]
  },
  {
   "cell_type": "code",
   "execution_count": 7,
   "id": "dbc6344f",
   "metadata": {},
   "outputs": [
    {
     "data": {
      "text/html": [
       "<div>\n",
       "<style scoped>\n",
       "    .dataframe tbody tr th:only-of-type {\n",
       "        vertical-align: middle;\n",
       "    }\n",
       "\n",
       "    .dataframe tbody tr th {\n",
       "        vertical-align: top;\n",
       "    }\n",
       "\n",
       "    .dataframe thead th {\n",
       "        text-align: right;\n",
       "    }\n",
       "</style>\n",
       "<table border=\"1\" class=\"dataframe\">\n",
       "  <thead>\n",
       "    <tr style=\"text-align: right;\">\n",
       "      <th></th>\n",
       "      <th>Catatan_kredit</th>\n",
       "      <th>Utang</th>\n",
       "      <th>Jaminan</th>\n",
       "      <th>Pendapatan</th>\n",
       "      <th>Risiko</th>\n",
       "    </tr>\n",
       "  </thead>\n",
       "  <tbody>\n",
       "    <tr>\n",
       "      <th>0</th>\n",
       "      <td>1</td>\n",
       "      <td>0</td>\n",
       "      <td>1</td>\n",
       "      <td>0</td>\n",
       "      <td>tinggi</td>\n",
       "    </tr>\n",
       "    <tr>\n",
       "      <th>1</th>\n",
       "      <td>2</td>\n",
       "      <td>1</td>\n",
       "      <td>1</td>\n",
       "      <td>1</td>\n",
       "      <td>tinggi</td>\n",
       "    </tr>\n",
       "    <tr>\n",
       "      <th>2</th>\n",
       "      <td>2</td>\n",
       "      <td>0</td>\n",
       "      <td>1</td>\n",
       "      <td>1</td>\n",
       "      <td>rendah</td>\n",
       "    </tr>\n",
       "    <tr>\n",
       "      <th>3</th>\n",
       "      <td>1</td>\n",
       "      <td>0</td>\n",
       "      <td>1</td>\n",
       "      <td>0</td>\n",
       "      <td>tinggi</td>\n",
       "    </tr>\n",
       "    <tr>\n",
       "      <th>4</th>\n",
       "      <td>2</td>\n",
       "      <td>0</td>\n",
       "      <td>0</td>\n",
       "      <td>2</td>\n",
       "      <td>rendah</td>\n",
       "    </tr>\n",
       "  </tbody>\n",
       "</table>\n",
       "</div>"
      ],
      "text/plain": [
       "   Catatan_kredit  Utang  Jaminan  Pendapatan  Risiko\n",
       "0               1      0        1           0  tinggi\n",
       "1               2      1        1           1  tinggi\n",
       "2               2      0        1           1  rendah\n",
       "3               1      0        1           0  tinggi\n",
       "4               2      0        0           2  rendah"
      ]
     },
     "execution_count": 7,
     "metadata": {},
     "output_type": "execute_result"
    }
   ],
   "source": [
    "#Membuang data yang tidak diperlukan\n",
    "df.drop(columns= 'Unnamed: 0', inplace=True)\n",
    "df.head()"
   ]
  },
  {
   "cell_type": "markdown",
   "id": "f1bca68c",
   "metadata": {},
   "source": [
    "Dikarenakan variabel Unnamed: 0 tidak digunakan dalam membangun model, maka variabel tersebut dihilangkan/dibuang dengan menggunakan drop."
   ]
  },
  {
   "cell_type": "code",
   "execution_count": 8,
   "id": "04d9858d",
   "metadata": {},
   "outputs": [],
   "source": [
    "#Import Library Split Data\n",
    "from sklearn.model_selection import train_test_split\n",
    "\n",
    "#Menentukan X dan Y\n",
    "X = df.drop('Risiko', axis=1)\n",
    "y = df['Risiko']"
   ]
  },
  {
   "cell_type": "markdown",
   "id": "bbf31ab7",
   "metadata": {},
   "source": [
    "Kemudian, mengimport librari yang dibutuhkan untuk membagi data menjadi data train dan data test. Setelah itu, menentukan variabel X dan Y. Variabel X terdiri dari variabel Catatan_kredit, Utang, Jaminan, dan Pendapatan, sedangkan variabel Y adalah variabel risiko."
   ]
  },
  {
   "cell_type": "code",
   "execution_count": 9,
   "id": "038b49e0",
   "metadata": {},
   "outputs": [],
   "source": [
    "#Splitting data\n",
    "X_train, X_test, y_train, y_test = train_test_split(X, y, test_size=0.2, random_state=42)"
   ]
  },
  {
   "cell_type": "code",
   "execution_count": 10,
   "id": "a07ccab7",
   "metadata": {},
   "outputs": [
    {
     "name": "stdout",
     "output_type": "stream",
     "text": [
      "x_train =  (96, 4)\n",
      "x_test =  (24, 4)\n",
      "y_train =  (96,)\n",
      "y_test =  (24,)\n"
     ]
    }
   ],
   "source": [
    "print('x_train = ', X_train.shape)\n",
    "print('x_test = ', X_test.shape)\n",
    "print('y_train = ', y_train.shape)\n",
    "print('y_test = ', y_test.shape)"
   ]
  },
  {
   "cell_type": "markdown",
   "id": "23896713",
   "metadata": {},
   "source": [
    "Berikutnya, dilakukan pembagian atau split data menjadi data train dan data test dengan banyaknya data test 20% dari data yang ada. Hasil yang didapatkan adalah data train sebanyak 96 dan data test sebanyak 24."
   ]
  },
  {
   "cell_type": "code",
   "execution_count": 11,
   "id": "1bec1828",
   "metadata": {},
   "outputs": [],
   "source": [
    "# Import Library Modeling\n",
    "\n",
    "from sklearn.neighbors import KNeighborsClassifier"
   ]
  },
  {
   "cell_type": "code",
   "execution_count": 12,
   "id": "455a33a1",
   "metadata": {},
   "outputs": [
    {
     "data": {
      "text/html": [
       "<style>#sk-container-id-1 {color: black;}#sk-container-id-1 pre{padding: 0;}#sk-container-id-1 div.sk-toggleable {background-color: white;}#sk-container-id-1 label.sk-toggleable__label {cursor: pointer;display: block;width: 100%;margin-bottom: 0;padding: 0.3em;box-sizing: border-box;text-align: center;}#sk-container-id-1 label.sk-toggleable__label-arrow:before {content: \"▸\";float: left;margin-right: 0.25em;color: #696969;}#sk-container-id-1 label.sk-toggleable__label-arrow:hover:before {color: black;}#sk-container-id-1 div.sk-estimator:hover label.sk-toggleable__label-arrow:before {color: black;}#sk-container-id-1 div.sk-toggleable__content {max-height: 0;max-width: 0;overflow: hidden;text-align: left;background-color: #f0f8ff;}#sk-container-id-1 div.sk-toggleable__content pre {margin: 0.2em;color: black;border-radius: 0.25em;background-color: #f0f8ff;}#sk-container-id-1 input.sk-toggleable__control:checked~div.sk-toggleable__content {max-height: 200px;max-width: 100%;overflow: auto;}#sk-container-id-1 input.sk-toggleable__control:checked~label.sk-toggleable__label-arrow:before {content: \"▾\";}#sk-container-id-1 div.sk-estimator input.sk-toggleable__control:checked~label.sk-toggleable__label {background-color: #d4ebff;}#sk-container-id-1 div.sk-label input.sk-toggleable__control:checked~label.sk-toggleable__label {background-color: #d4ebff;}#sk-container-id-1 input.sk-hidden--visually {border: 0;clip: rect(1px 1px 1px 1px);clip: rect(1px, 1px, 1px, 1px);height: 1px;margin: -1px;overflow: hidden;padding: 0;position: absolute;width: 1px;}#sk-container-id-1 div.sk-estimator {font-family: monospace;background-color: #f0f8ff;border: 1px dotted black;border-radius: 0.25em;box-sizing: border-box;margin-bottom: 0.5em;}#sk-container-id-1 div.sk-estimator:hover {background-color: #d4ebff;}#sk-container-id-1 div.sk-parallel-item::after {content: \"\";width: 100%;border-bottom: 1px solid gray;flex-grow: 1;}#sk-container-id-1 div.sk-label:hover label.sk-toggleable__label {background-color: #d4ebff;}#sk-container-id-1 div.sk-serial::before {content: \"\";position: absolute;border-left: 1px solid gray;box-sizing: border-box;top: 0;bottom: 0;left: 50%;z-index: 0;}#sk-container-id-1 div.sk-serial {display: flex;flex-direction: column;align-items: center;background-color: white;padding-right: 0.2em;padding-left: 0.2em;position: relative;}#sk-container-id-1 div.sk-item {position: relative;z-index: 1;}#sk-container-id-1 div.sk-parallel {display: flex;align-items: stretch;justify-content: center;background-color: white;position: relative;}#sk-container-id-1 div.sk-item::before, #sk-container-id-1 div.sk-parallel-item::before {content: \"\";position: absolute;border-left: 1px solid gray;box-sizing: border-box;top: 0;bottom: 0;left: 50%;z-index: -1;}#sk-container-id-1 div.sk-parallel-item {display: flex;flex-direction: column;z-index: 1;position: relative;background-color: white;}#sk-container-id-1 div.sk-parallel-item:first-child::after {align-self: flex-end;width: 50%;}#sk-container-id-1 div.sk-parallel-item:last-child::after {align-self: flex-start;width: 50%;}#sk-container-id-1 div.sk-parallel-item:only-child::after {width: 0;}#sk-container-id-1 div.sk-dashed-wrapped {border: 1px dashed gray;margin: 0 0.4em 0.5em 0.4em;box-sizing: border-box;padding-bottom: 0.4em;background-color: white;}#sk-container-id-1 div.sk-label label {font-family: monospace;font-weight: bold;display: inline-block;line-height: 1.2em;}#sk-container-id-1 div.sk-label-container {text-align: center;}#sk-container-id-1 div.sk-container {/* jupyter's `normalize.less` sets `[hidden] { display: none; }` but bootstrap.min.css set `[hidden] { display: none !important; }` so we also need the `!important` here to be able to override the default hidden behavior on the sphinx rendered scikit-learn.org. See: https://github.com/scikit-learn/scikit-learn/issues/21755 */display: inline-block !important;position: relative;}#sk-container-id-1 div.sk-text-repr-fallback {display: none;}</style><div id=\"sk-container-id-1\" class=\"sk-top-container\"><div class=\"sk-text-repr-fallback\"><pre>KNeighborsClassifier(n_neighbors=2)</pre><b>In a Jupyter environment, please rerun this cell to show the HTML representation or trust the notebook. <br />On GitHub, the HTML representation is unable to render, please try loading this page with nbviewer.org.</b></div><div class=\"sk-container\" hidden><div class=\"sk-item\"><div class=\"sk-estimator sk-toggleable\"><input class=\"sk-toggleable__control sk-hidden--visually\" id=\"sk-estimator-id-1\" type=\"checkbox\" checked><label for=\"sk-estimator-id-1\" class=\"sk-toggleable__label sk-toggleable__label-arrow\">KNeighborsClassifier</label><div class=\"sk-toggleable__content\"><pre>KNeighborsClassifier(n_neighbors=2)</pre></div></div></div></div></div>"
      ],
      "text/plain": [
       "KNeighborsClassifier(n_neighbors=2)"
      ]
     },
     "execution_count": 12,
     "metadata": {},
     "output_type": "execute_result"
    }
   ],
   "source": [
    "# KNN\n",
    "knn = KNeighborsClassifier(n_neighbors=2)\n",
    "knn.fit(X_train, y_train)"
   ]
  },
  {
   "cell_type": "code",
   "execution_count": 13,
   "id": "ba43db30",
   "metadata": {},
   "outputs": [
    {
     "name": "stdout",
     "output_type": "stream",
     "text": [
      "Predicted Values:\n",
      "['tinggi' 'rendah' 'rendah' 'rendah' 'rendah' 'rendah' 'tinggi' 'tinggi'\n",
      " 'tinggi' 'rendah' 'rendah' 'rendah' 'rendah' 'rendah' 'rendah' 'rendah'\n",
      " 'rendah' 'tinggi' 'rendah' 'rendah' 'tinggi' 'tinggi' 'rendah' 'rendah']\n",
      "Actual Values:\n",
      "['tinggi' 'rendah' 'rendah' 'tinggi' 'rendah' 'rendah' 'rendah' 'tinggi'\n",
      " 'tinggi' 'rendah' 'tinggi' 'rendah' 'tinggi' 'rendah' 'rendah' 'rendah'\n",
      " 'tinggi' 'tinggi' 'rendah' 'tinggi' 'tinggi' 'tinggi' 'tinggi' 'rendah']\n"
     ]
    }
   ],
   "source": [
    "#Menerapkan model untuk prediksi dengan KNN\n",
    "y_pred = knn.predict(X_test)\n",
    "print(\"Predicted Values:\")\n",
    "print(y_pred)\n",
    "print(\"Actual Values:\")\n",
    "print(y_test.values)"
   ]
  },
  {
   "cell_type": "code",
   "execution_count": 14,
   "id": "d84435f7",
   "metadata": {},
   "outputs": [
    {
     "name": "stdout",
     "output_type": "stream",
     "text": [
      "Confusion Matrix:\n",
      "[[11  1]\n",
      " [ 6  6]]\n"
     ]
    }
   ],
   "source": [
    "#Evaluasi Model yang terbentuk\n",
    "from sklearn.metrics import confusion_matrix, classification_report\n",
    "conf_matrix = confusion_matrix(y_test, y_pred)\n",
    "\n",
    "print(\"Confusion Matrix:\")\n",
    "print(conf_matrix)\n"
   ]
  },
  {
   "cell_type": "code",
   "execution_count": 15,
   "id": "da5b6857",
   "metadata": {},
   "outputs": [
    {
     "name": "stdout",
     "output_type": "stream",
     "text": [
      "\n",
      "Classification Report:\n",
      "              precision    recall  f1-score   support\n",
      "\n",
      "      rendah       0.65      0.92      0.76        12\n",
      "      tinggi       0.86      0.50      0.63        12\n",
      "\n",
      "    accuracy                           0.71        24\n",
      "   macro avg       0.75      0.71      0.70        24\n",
      "weighted avg       0.75      0.71      0.70        24\n",
      "\n"
     ]
    }
   ],
   "source": [
    "class_report = classification_report(y_test, y_pred)\n",
    "\n",
    "print(\"\\nClassification Report:\")\n",
    "print(class_report)"
   ]
  },
  {
   "cell_type": "code",
   "execution_count": 16,
   "id": "160e7929",
   "metadata": {},
   "outputs": [
    {
     "data": {
      "text/plain": [
       "0.7083333333333334"
      ]
     },
     "execution_count": 16,
     "metadata": {},
     "output_type": "execute_result"
    }
   ],
   "source": [
    "#Akurasi\n",
    "knn.score(X_test, y_test)"
   ]
  },
  {
   "cell_type": "code",
   "execution_count": null,
   "id": "40bda07b",
   "metadata": {},
   "outputs": [],
   "source": []
  }
 ],
 "metadata": {
  "kernelspec": {
   "display_name": "Python 3 (ipykernel)",
   "language": "python",
   "name": "python3"
  },
  "language_info": {
   "codemirror_mode": {
    "name": "ipython",
    "version": 3
   },
   "file_extension": ".py",
   "mimetype": "text/x-python",
   "name": "python",
   "nbconvert_exporter": "python",
   "pygments_lexer": "ipython3",
   "version": "3.11.4"
  }
 },
 "nbformat": 4,
 "nbformat_minor": 5
}
