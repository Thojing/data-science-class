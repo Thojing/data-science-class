{
 "cells": [
  {
   "cell_type": "code",
   "execution_count": 1,
   "id": "4fe3e46c",
   "metadata": {},
   "outputs": [],
   "source": [
    "import pandas as pd\n",
    "import numpy as np "
   ]
  },
  {
   "cell_type": "code",
   "execution_count": null,
   "id": "9bbdd7e1",
   "metadata": {
    "scrolled": true
   },
   "outputs": [],
   "source": [
    "df = pd.read_csv('Data/global-data-on-sustainable-energy (1).csv')\n",
    "df.head()"
   ]
  },
  {
   "cell_type": "markdown",
   "id": "afa4e7f4",
   "metadata": {},
   "source": [
    "## Exploratory Data Analysis"
   ]
  },
  {
   "cell_type": "code",
   "execution_count": null,
   "id": "c08fa71a",
   "metadata": {},
   "outputs": [],
   "source": [
    "df.columns"
   ]
  },
  {
   "cell_type": "code",
   "execution_count": null,
   "id": "4357d2bf",
   "metadata": {},
   "outputs": [],
   "source": [
    "df.info()"
   ]
  },
  {
   "cell_type": "code",
   "execution_count": null,
   "id": "7f7b28da",
   "metadata": {
    "scrolled": false
   },
   "outputs": [],
   "source": [
    "df.describe()"
   ]
  },
  {
   "cell_type": "code",
   "execution_count": null,
   "id": "405ef9d2",
   "metadata": {},
   "outputs": [],
   "source": [
    "df.shape"
   ]
  },
  {
   "cell_type": "markdown",
   "id": "416cfe6b",
   "metadata": {},
   "source": [
    "Issue : Renewable energy potential assessment \n",
    "\n",
    "Variabel X : \n",
    "1. Electricity from fossil fuels (TWh): Electricity generated from fossil fuels (coal, oil, gas) in terawatt-hours.\n",
    "2. Electricity from renewables (TWh): Electricity generated from renewable sources (hydro, solar, wind, etc.) in terawatt-hours.\n",
    "3. GDP growth (annual %): Annual GDP growth rate based on constant local currency\n",
    "4. Access to electricity (% of population): The percentage of population with access to electricity.\n",
    "5. Access to clean fuels for cooking (% of population): The percentage of the population with primary reliance on clean fuels\n",
    "6. Renewable-electricity-generating-capacity-per-capita: Installed Renewable energy capacity per person\n",
    "7. Primary energy consumption per capita (kWh/person): Energy consumption per person in kilowatt-hours.\n",
    "8. Density\n",
    "\n",
    "\n",
    "Variable : Y\n",
    "1. Entity: The name of the country or region for which the data is reported.\n"
   ]
  },
  {
   "cell_type": "code",
   "execution_count": null,
   "id": "e34a74c4",
   "metadata": {},
   "outputs": [],
   "source": [
    "to_drop =['Year','Financial flows to developing countries (US $)',\n",
    "          'Renewable energy share in the total final energy consumption (%)',\n",
    "          'Electricity from nuclear (TWh)',\n",
    "          'Energy intensity level of primary energy (MJ/$2017 PPP GDP)',\n",
    "          'Value_co2_emissions_kt_by_country',\n",
    "          'Renewables (% equivalent primary energy)',\n",
    "          'Low-carbon electricity (% electricity)',\n",
    "          'gdp_per_capita','Land Area(Km2)', 'Latitude','Longitude']"
   ]
  },
  {
   "cell_type": "code",
   "execution_count": null,
   "id": "33437b77",
   "metadata": {},
   "outputs": [],
   "source": [
    "df.drop(columns=to_drop, inplace=True)"
   ]
  },
  {
   "cell_type": "code",
   "execution_count": null,
   "id": "31384663",
   "metadata": {
    "scrolled": true
   },
   "outputs": [],
   "source": [
    "df.columns"
   ]
  },
  {
   "cell_type": "code",
   "execution_count": null,
   "id": "6eab196e",
   "metadata": {},
   "outputs": [],
   "source": [
    "New_name = {'Entity': 'Y', \n",
    "            'Access to electricity (% of population)' : 'X1',\n",
    "            'Access to clean fuels for cooking' : 'X2',\n",
    "            'Renewable-electricity-generating-capacity-per-capita' : 'X3',\n",
    "            'Electricity from fossil fuels (TWh)':'X4',\n",
    "            'Electricity from renewables (TWh)':'X5', \n",
    "            'Primary energy consumption per capita (kWh/person)' : 'X6',\n",
    "            'gdp_growth':'X7',\n",
    "            'Density' : 'X8',}"
   ]
  },
  {
   "cell_type": "markdown",
   "id": "27521347",
   "metadata": {},
   "source": [
    "#### Keterangan Variabel\n",
    "1. Y = Entity : Wilayah\n",
    "2. X1 = Access to electricity (% of population) : Akses Jaringan Listrik (%)\n",
    "3. X2 = Access to clean fuels for cooking : Akses Bahan Bakar Bersih\n",
    "4. X3 = Renewable-electricity-generating-capacity-per-capita : Kapasitas Pembangkit Listrik Terbarukan per Kapita\n",
    "5. X4 = Electricity from fossil fuels (TWh) : Listrik dari Bahan Bakar Fosil (TWh)\n",
    "6. X5 = Electricity from renewables (TWh) : Listrik dari Energi Terbarukan (TWh)\n",
    "7. X6 = Primary energy consumption per capita (kWh/person) : Konsumsi Energi Primer per Kapita (kWh/orang)\n",
    "8. X7 = gdp_growth : Pertumbuhan PDB (% Tahun)\n",
    "9. X8 = Density : Kepadatan_Penduduk"
   ]
  },
  {
   "cell_type": "code",
   "execution_count": null,
   "id": "b1740c98",
   "metadata": {},
   "outputs": [],
   "source": [
    "df.rename(columns=New_name, inplace = True)"
   ]
  },
  {
   "cell_type": "code",
   "execution_count": null,
   "id": "f248a564",
   "metadata": {},
   "outputs": [],
   "source": [
    "df.columns"
   ]
  },
  {
   "cell_type": "code",
   "execution_count": null,
   "id": "25472fc2",
   "metadata": {
    "scrolled": false
   },
   "outputs": [],
   "source": [
    "df.head()"
   ]
  },
  {
   "cell_type": "code",
   "execution_count": null,
   "id": "91dc0025",
   "metadata": {
    "scrolled": true
   },
   "outputs": [],
   "source": [
    "df.isna().sum()"
   ]
  },
  {
   "cell_type": "code",
   "execution_count": null,
   "id": "25978510",
   "metadata": {
    "scrolled": true
   },
   "outputs": [],
   "source": [
    "#Casting Type Data \n",
    "df['X8'] = df.X8.str.replace(',','').astype(float)"
   ]
  },
  {
   "cell_type": "code",
   "execution_count": null,
   "id": "81c537f9",
   "metadata": {},
   "outputs": [],
   "source": [
    "df.info()"
   ]
  },
  {
   "cell_type": "code",
   "execution_count": null,
   "id": "a0152e6d",
   "metadata": {},
   "outputs": [],
   "source": [
    "df['X1'] = pd.to_numeric(df['X1'])\n",
    "df['X2'] = pd.to_numeric(df['X2'])\n",
    "df['X3'] = pd.to_numeric(df['X3'])\n",
    "df['X4'] = pd.to_numeric(df['X4'])\n",
    "df['X5'] = pd.to_numeric(df['X5'])\n",
    "df['X6'] = pd.to_numeric(df['X6'])\n",
    "df['X7'] = pd.to_numeric(df['X7'])\n",
    "df['X8'] = pd.to_numeric(df['X8'])"
   ]
  },
  {
   "cell_type": "code",
   "execution_count": null,
   "id": "6c06871c",
   "metadata": {},
   "outputs": [],
   "source": [
    "df['X1'].fillna(df.mean(), inplace = True)\n",
    "df['X2'].fillna(df.mean(), inplace = True)\n",
    "df['X3'].fillna(df.mean(), inplace = True)\n",
    "df['X4'].fillna(df.mean(), inplace = True)\n",
    "df['X5'].fillna(df.mean(), inplace = True)\n",
    "df['X6'].fillna(df.mean(), inplace = True)\n",
    "df['X7'].fillna(df.mean(), inplace = True)\n",
    "df['X8'].fillna(df.mean(), inplace = True)"
   ]
  },
  {
   "cell_type": "code",
   "execution_count": null,
   "id": "95c91971",
   "metadata": {},
   "outputs": [],
   "source": [
    "df.head()"
   ]
  },
  {
   "cell_type": "code",
   "execution_count": null,
   "id": "ea129092",
   "metadata": {},
   "outputs": [],
   "source": [
    "df.isna().sum()"
   ]
  },
  {
   "cell_type": "code",
   "execution_count": null,
   "id": "3ec24af7",
   "metadata": {},
   "outputs": [],
   "source": [
    "import matplotlib.pyplot as plt\n",
    "import seaborn as sns"
   ]
  },
  {
   "cell_type": "code",
   "execution_count": null,
   "id": "6f7292ae",
   "metadata": {},
   "outputs": [],
   "source": [
    "plt.figure(figsize=(20,10))\n",
    "sns.heatmap(df.corr(),annot=True)\n",
    "plt.ioff()"
   ]
  },
  {
   "cell_type": "code",
   "execution_count": null,
   "id": "b1b1b9e7",
   "metadata": {},
   "outputs": [],
   "source": [
    "sns.barplot(data_frame['Accuracy'],data_frame['Algorithm'],palette= \"husl\").set_title('Accuracy of all Algorithms')\n"
   ]
  }
 ],
 "metadata": {
  "kernelspec": {
   "display_name": "Python 3 (ipykernel)",
   "language": "python",
   "name": "python3"
  },
  "language_info": {
   "codemirror_mode": {
    "name": "ipython",
    "version": 3
   },
   "file_extension": ".py",
   "mimetype": "text/x-python",
   "name": "python",
   "nbconvert_exporter": "python",
   "pygments_lexer": "ipython3",
   "version": "3.11.4"
  }
 },
 "nbformat": 4,
 "nbformat_minor": 5
}
