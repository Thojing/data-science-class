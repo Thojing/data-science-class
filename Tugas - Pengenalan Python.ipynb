{
 "cells": [
  {
   "cell_type": "markdown",
   "id": "b6e2367e",
   "metadata": {},
   "source": [
    "# Pengenalan Python"
   ]
  },
  {
   "cell_type": "markdown",
   "id": "e8a308df",
   "metadata": {},
   "source": [
    "## Variabel"
   ]
  },
  {
   "cell_type": "markdown",
   "id": "13e4243b",
   "metadata": {},
   "source": [
    "Variabel adalah sebuah karakteristik unit yang diamati dan bisa terdiri lebih dari satu kumpulan nilai yang bisa diberi ukuran numerik. Contoh variabel adalah pendapatan, usia, berat, dan lain-lain dalam sebuah penelitian."
   ]
  },
  {
   "cell_type": "code",
   "execution_count": 37,
   "id": "b8eb10c4",
   "metadata": {},
   "outputs": [],
   "source": [
    "#Contoh Penamaan Variabel\n",
    "x = 20\n",
    "y = 30\n",
    "contoh = 50000000\n",
    "umur = 17"
   ]
  },
  {
   "cell_type": "code",
   "execution_count": 2,
   "id": "da472417",
   "metadata": {},
   "outputs": [
    {
     "data": {
      "text/plain": [
       "20"
      ]
     },
     "execution_count": 2,
     "metadata": {},
     "output_type": "execute_result"
    }
   ],
   "source": [
    "x"
   ]
  },
  {
   "cell_type": "code",
   "execution_count": 3,
   "id": "6e824be9",
   "metadata": {},
   "outputs": [
    {
     "data": {
      "text/plain": [
       "30"
      ]
     },
     "execution_count": 3,
     "metadata": {},
     "output_type": "execute_result"
    }
   ],
   "source": [
    "y"
   ]
  },
  {
   "cell_type": "code",
   "execution_count": 4,
   "id": "89713e2b",
   "metadata": {},
   "outputs": [
    {
     "data": {
      "text/plain": [
       "50000000"
      ]
     },
     "execution_count": 4,
     "metadata": {},
     "output_type": "execute_result"
    }
   ],
   "source": [
    "contoh"
   ]
  },
  {
   "cell_type": "code",
   "execution_count": 38,
   "id": "832d8027",
   "metadata": {},
   "outputs": [
    {
     "data": {
      "text/plain": [
       "17"
      ]
     },
     "execution_count": 38,
     "metadata": {},
     "output_type": "execute_result"
    }
   ],
   "source": [
    "umur"
   ]
  },
  {
   "cell_type": "code",
   "execution_count": 6,
   "id": "87e976ec",
   "metadata": {},
   "outputs": [
    {
     "name": "stdout",
     "output_type": "stream",
     "text": [
      "Nilai Variabel x adalah 20\n"
     ]
    }
   ],
   "source": [
    "#Pemanggilan variabel\n",
    "print('Nilai Variabel x adalah',x)"
   ]
  },
  {
   "cell_type": "code",
   "execution_count": 7,
   "id": "d3fdfd07",
   "metadata": {},
   "outputs": [
    {
     "name": "stdout",
     "output_type": "stream",
     "text": [
      "Nilai Variabel x adalah 30\n"
     ]
    }
   ],
   "source": [
    "print('Nilai Variabel x adalah',y)"
   ]
  },
  {
   "cell_type": "code",
   "execution_count": 39,
   "id": "d1e1652d",
   "metadata": {},
   "outputs": [
    {
     "name": "stdout",
     "output_type": "stream",
     "text": [
      "Nilai Variabel umur adalah 17\n"
     ]
    }
   ],
   "source": [
    "print('Nilai Variabel umur adalah',umur)"
   ]
  },
  {
   "cell_type": "code",
   "execution_count": 9,
   "id": "51aefec6",
   "metadata": {},
   "outputs": [],
   "source": [
    "#Assigment Indirect\n",
    "z = y\n",
    "z"
   ]
  },
  {
   "cell_type": "code",
   "execution_count": 40,
   "id": "97c23ddc",
   "metadata": {},
   "outputs": [
    {
     "name": "stdout",
     "output_type": "stream",
     "text": [
      "u adalah nilai umur = 17\n"
     ]
    }
   ],
   "source": [
    "u = umur\n",
    "print('u adalah nilai umur =',u)"
   ]
  },
  {
   "cell_type": "markdown",
   "id": "ce91151d",
   "metadata": {},
   "source": [
    "## Tipe Data"
   ]
  },
  {
   "cell_type": "markdown",
   "id": "d7093c8f",
   "metadata": {},
   "source": [
    "Setiap data pasti memiliki tipe, di dalam bahasa pemrograman python setiap data\n",
    "dapat dilakukan check tipe data yang dimiliki dengan menggunakan perintah\n",
    "type(data). Berikut berbagai macam tipe data yang tersedia dalam bahasa\n",
    "pemrograman python"
   ]
  },
  {
   "cell_type": "markdown",
   "id": "fe32d0ce",
   "metadata": {},
   "source": [
    "### Data String"
   ]
  },
  {
   "cell_type": "markdown",
   "id": "6e73a8a2",
   "metadata": {},
   "source": [
    "String adalah data yang terdiri dari kumpulan karakter atau kata. Dalam python string harus diapit oleh tanda petik atas (tanda \" \" atau tanda ' ')."
   ]
  },
  {
   "cell_type": "code",
   "execution_count": 19,
   "id": "4c76d248",
   "metadata": {},
   "outputs": [
    {
     "data": {
      "text/plain": [
       "'Ini contoh data String'"
      ]
     },
     "execution_count": 19,
     "metadata": {},
     "output_type": "execute_result"
    }
   ],
   "source": [
    "#String\n",
    "S = 'Ini contoh data String'\n",
    "S"
   ]
  },
  {
   "cell_type": "code",
   "execution_count": 20,
   "id": "b750c580",
   "metadata": {},
   "outputs": [
    {
     "data": {
      "text/plain": [
       "'ini contoh data String'"
      ]
     },
     "execution_count": 20,
     "metadata": {},
     "output_type": "execute_result"
    }
   ],
   "source": [
    "P = \"ini contoh data String\"\n",
    "P"
   ]
  },
  {
   "cell_type": "code",
   "execution_count": 21,
   "id": "74fca1d5",
   "metadata": {},
   "outputs": [
    {
     "name": "stdout",
     "output_type": "stream",
     "text": [
      "Ini adalah tipe data <class 'str'>\n"
     ]
    }
   ],
   "source": [
    "##Check tipe data\n",
    "print('Ini adalah tipe data',type(S))"
   ]
  },
  {
   "cell_type": "markdown",
   "id": "da5e3ee8",
   "metadata": {},
   "source": [
    "### Data Integer"
   ]
  },
  {
   "cell_type": "markdown",
   "id": "5b735f75",
   "metadata": {},
   "source": [
    "Integer adalah data yang terdiri dari bilangan bulat."
   ]
  },
  {
   "cell_type": "code",
   "execution_count": 22,
   "id": "3269c5fe",
   "metadata": {},
   "outputs": [
    {
     "data": {
      "text/plain": [
       "7"
      ]
     },
     "execution_count": 22,
     "metadata": {},
     "output_type": "execute_result"
    }
   ],
   "source": [
    "I = 7\n",
    "I"
   ]
  },
  {
   "cell_type": "code",
   "execution_count": 23,
   "id": "69adccac",
   "metadata": {},
   "outputs": [
    {
     "name": "stdout",
     "output_type": "stream",
     "text": [
      "Ini adalah tipe data <class 'int'>\n"
     ]
    }
   ],
   "source": [
    "##Check tipe data\n",
    "print('Ini adalah tipe data',type(I))"
   ]
  },
  {
   "cell_type": "markdown",
   "id": "672c79f7",
   "metadata": {},
   "source": [
    "### Data Float"
   ]
  },
  {
   "cell_type": "markdown",
   "id": "24821bf3",
   "metadata": {},
   "source": [
    "Float adalah data yang terdiri dari bilangan desimal."
   ]
  },
  {
   "cell_type": "code",
   "execution_count": 25,
   "id": "7966c35b",
   "metadata": {},
   "outputs": [
    {
     "data": {
      "text/plain": [
       "7.3458"
      ]
     },
     "execution_count": 25,
     "metadata": {},
     "output_type": "execute_result"
    }
   ],
   "source": [
    "D = 7.3458\n",
    "D"
   ]
  },
  {
   "cell_type": "code",
   "execution_count": 27,
   "id": "547fbafb",
   "metadata": {},
   "outputs": [
    {
     "name": "stdout",
     "output_type": "stream",
     "text": [
      "Ini adalah tipe data <class 'float'>\n"
     ]
    }
   ],
   "source": [
    "##Check tipe data\n",
    "print('Ini adalah tipe data',type(D))"
   ]
  },
  {
   "cell_type": "markdown",
   "id": "c6b721a8",
   "metadata": {},
   "source": [
    "### Data Boolen"
   ]
  },
  {
   "cell_type": "markdown",
   "id": "5c825a50",
   "metadata": {},
   "source": [
    "Boolen adalah data yang terdiri dari True dan False "
   ]
  },
  {
   "cell_type": "code",
   "execution_count": 28,
   "id": "be968c33",
   "metadata": {},
   "outputs": [
    {
     "data": {
      "text/plain": [
       "True"
      ]
     },
     "execution_count": 28,
     "metadata": {},
     "output_type": "execute_result"
    }
   ],
   "source": [
    "Benar = True\n",
    "Benar"
   ]
  },
  {
   "cell_type": "code",
   "execution_count": 29,
   "id": "9bfcb078",
   "metadata": {},
   "outputs": [
    {
     "name": "stdout",
     "output_type": "stream",
     "text": [
      "Ini adalah tipe data <class 'bool'>\n"
     ]
    }
   ],
   "source": [
    "##Check tipe data\n",
    "print('Ini adalah tipe data',type(Benar))"
   ]
  },
  {
   "cell_type": "markdown",
   "id": "a16b4d08",
   "metadata": {},
   "source": [
    "## Casting Tipe Data"
   ]
  },
  {
   "cell_type": "code",
   "execution_count": 33,
   "id": "7ab5b490",
   "metadata": {},
   "outputs": [
    {
     "name": "stdout",
     "output_type": "stream",
     "text": [
      "ini =  3000 ,type = <class 'int'>\n",
      "ini =  3000.0 ,type = <class 'float'>\n",
      "ini =  True ,type = <class 'bool'>\n"
     ]
    }
   ],
   "source": [
    "#String\n",
    "S = '3000'\n",
    "\n",
    "integer = int(S)\n",
    "floats = float(S)\n",
    "boolen = bool(S)\n",
    "\n",
    "print('ini = ',integer,',type =', type(integer))\n",
    "print('ini = ',floats,',type =', type(floats))\n",
    "print('ini = ',boolen,',type =', type(boolen))"
   ]
  },
  {
   "cell_type": "code",
   "execution_count": 34,
   "id": "54d87aed",
   "metadata": {},
   "outputs": [
    {
     "name": "stdout",
     "output_type": "stream",
     "text": [
      "ini =  1234567.0 ,type = <class 'float'>\n",
      "ini =  1234567 ,type = <class 'str'>\n",
      "ini =  True ,type = <class 'bool'>\n"
     ]
    }
   ],
   "source": [
    "#Integer\n",
    "bulat = 1234567\n",
    "\n",
    "floats = float(bulat)\n",
    "string = str(bulat)\n",
    "boolen = bool(bulat)\n",
    "\n",
    "print('ini = ',floats,',type =', type(floats))\n",
    "print('ini = ',string,',type =', type(string))\n",
    "print('ini = ',boolen,',type =', type(boolen)) # 0 artinya False, >0> artinya True"
   ]
  },
  {
   "cell_type": "code",
   "execution_count": 35,
   "id": "541f8cb1",
   "metadata": {},
   "outputs": [
    {
     "name": "stdout",
     "output_type": "stream",
     "text": [
      "data =  99 ,type = <class 'int'>\n",
      "data =  99.0103284 ,type = <class 'str'>\n",
      "data =  True ,type = <class 'bool'>\n"
     ]
    }
   ],
   "source": [
    "#Float\n",
    "koma = 99.0103284\n",
    "\n",
    "integer = int(koma)\n",
    "string = str(koma)\n",
    "boolen = bool(koma)\n",
    "\n",
    "print('data = ',integer,',type =', type(integer)) #pembulatan selalu ke bawah\n",
    "print('data = ',string,',type =', type(string))\n",
    "print('data = ',boolen,',type =', type(boolen))# 0 artinya False, >0 artinya True"
   ]
  },
  {
   "cell_type": "code",
   "execution_count": 36,
   "id": "cffcc25f",
   "metadata": {},
   "outputs": [
    {
     "name": "stdout",
     "output_type": "stream",
     "text": [
      "data =  1 ,type = <class 'int'>\n",
      "data =  1.0 ,type = <class 'float'>\n",
      "data =  True ,type = <class 'str'>\n"
     ]
    }
   ],
   "source": [
    "#Boolen\n",
    "benar = True\n",
    "\n",
    "integer = int(benar)\n",
    "floats = float(benar)\n",
    "string = str(benar)\n",
    "\n",
    "print('data = ',integer,',type =', type(integer))\n",
    "print('data = ',floats,',type =', type(floats))\n",
    "print('data = ',string,',type =', type(string))"
   ]
  }
 ],
 "metadata": {
  "kernelspec": {
   "display_name": "Python 3 (ipykernel)",
   "language": "python",
   "name": "python3"
  },
  "language_info": {
   "codemirror_mode": {
    "name": "ipython",
    "version": 3
   },
   "file_extension": ".py",
   "mimetype": "text/x-python",
   "name": "python",
   "nbconvert_exporter": "python",
   "pygments_lexer": "ipython3",
   "version": "3.11.4"
  }
 },
 "nbformat": 4,
 "nbformat_minor": 5
}
